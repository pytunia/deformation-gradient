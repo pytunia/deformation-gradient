{
 "cells": [
  {
   "cell_type": "markdown",
   "metadata": {},
   "source": [
    "# Simple shear"
   ]
  },
  {
   "cell_type": "code",
   "execution_count": 93,
   "metadata": {},
   "outputs": [],
   "source": [
    "import numpy as np\n",
    "import pandas as pd\n",
    "from scipy.linalg import eigh\n",
    "from scipy.linalg import sqrtm\n",
    "from scipy.linalg import polar\n",
    "from scipy.linalg import inv"
   ]
  },
  {
   "cell_type": "markdown",
   "metadata": {},
   "source": [
    "##### helper functions"
   ]
  },
  {
   "cell_type": "code",
   "execution_count": 97,
   "metadata": {},
   "outputs": [],
   "source": [
    "def reconstruct_strain_matrix(eid, frame):\n",
    "    exx = df_strain.loc[frame, \"Exx_\"+str(eid)]\n",
    "    eyy = df_strain.loc[frame, \"Eyy_\"+str(eid)]\n",
    "    ezz = df_strain.loc[frame, \"Ezz_\"+str(eid)]\n",
    "    exy = df_strain.loc[frame, \"Exy_\"+str(eid)]\n",
    "    eyz = df_strain.loc[frame, \"Eyz_\"+str(eid)]\n",
    "    ezx = df_strain.loc[frame, \"Ezx_\"+str(eid)]\n",
    "    e_mat = np.array([[exx, exy, ezx],\n",
    "                      [exy, eyy, eyz],\n",
    "                      [ezx, eyz, ezz]])\n",
    "    return e_mat"
   ]
  },
  {
   "cell_type": "code",
   "execution_count": 98,
   "metadata": {},
   "outputs": [],
   "source": [
    "def compute_angle_between_3d_points(a,b,c):\n",
    "    ba = a - b\n",
    "    bc = c - b\n",
    "    cosine_angle = np.dot(ba, bc) / (np.linalg.norm(ba) * np.linalg.norm(bc))\n",
    "    angle = np.arccos(cosine_angle)\n",
    "    return angle"
   ]
  },
  {
   "cell_type": "markdown",
   "metadata": {},
   "source": [
    "### Wikipedia \"Deformationsgradient\"   \n",
    "https://de.wikipedia.org/wiki/Deformationsgradient#Beispiel"
   ]
  },
  {
   "cell_type": "code",
   "execution_count": 84,
   "metadata": {},
   "outputs": [],
   "source": [
    "tan_alpha = 5/6"
   ]
  },
  {
   "cell_type": "code",
   "execution_count": 85,
   "metadata": {},
   "outputs": [],
   "source": [
    "def_F = np.array([[1., tan_alpha],\n",
    "                [0., 1.]])\n",
    "def_C = np.matmul(def_F.T, def_F)\n",
    "w, v = eigh(def_C)"
   ]
  },
  {
   "cell_type": "code",
   "execution_count": 86,
   "metadata": {
    "scrolled": true
   },
   "outputs": [
    {
     "name": "stdout",
     "output_type": "stream",
     "text": [
      "Eigenvalues:\n",
      "0.44444444444444453\n",
      "2.25\n"
     ]
    }
   ],
   "source": [
    "print(\"Eigenvalues:\")\n",
    "print(w[0])\n",
    "print(w[1])"
   ]
  },
  {
   "cell_type": "code",
   "execution_count": 87,
   "metadata": {},
   "outputs": [
    {
     "data": {
      "text/plain": [
       "array([-0.40546511,  0.40546511])"
      ]
     },
     "execution_count": 87,
     "metadata": {},
     "output_type": "execute_result"
    }
   ],
   "source": [
    "# get true strain values\n",
    "np.log(w)/2"
   ]
  },
  {
   "cell_type": "code",
   "execution_count": 88,
   "metadata": {},
   "outputs": [],
   "source": [
    "v1 = v[:,0]\n",
    "v2 = v[:,1]\n",
    "tmp_22 = np.array([v1*w[0], v2*w[1]])\n",
    "tmp_11 = np.array([v1, v2]).T"
   ]
  },
  {
   "cell_type": "code",
   "execution_count": 89,
   "metadata": {},
   "outputs": [
    {
     "data": {
      "text/plain": [
       "array([[1.        , 0.83333333],\n",
       "       [0.83333333, 1.69444444]])"
      ]
     },
     "execution_count": 89,
     "metadata": {},
     "output_type": "execute_result"
    }
   ],
   "source": [
    "np.matmul(tmp_11, tmp_22)"
   ]
  },
  {
   "cell_type": "code",
   "execution_count": 90,
   "metadata": {
    "scrolled": true
   },
   "outputs": [
    {
     "data": {
      "text/plain": [
       "array([[0.92307692, 0.38461538],\n",
       "       [0.38461538, 1.24358974]])"
      ]
     },
     "execution_count": 90,
     "metadata": {},
     "output_type": "execute_result"
    }
   ],
   "source": [
    "sqrtm(np.matmul(tmp_11, tmp_22))"
   ]
  },
  {
   "cell_type": "markdown",
   "metadata": {},
   "source": [
    "Result agrees with result on wikipedia."
   ]
  },
  {
   "cell_type": "code",
   "execution_count": 51,
   "metadata": {
    "scrolled": true
   },
   "outputs": [
    {
     "data": {
      "text/plain": [
       "array([[0.92307692, 0.38461538],\n",
       "       [0.38461538, 1.24358974]])"
      ]
     },
     "execution_count": 51,
     "metadata": {},
     "output_type": "execute_result"
    }
   ],
   "source": [
    "np.array([[12/13, 5/13],\n",
    "          [5/13, (97/6)*(1/13)]])"
   ]
  },
  {
   "cell_type": "markdown",
   "metadata": {},
   "source": [
    "### Results from finite element simulation"
   ]
  },
  {
   "cell_type": "code",
   "execution_count": 107,
   "metadata": {},
   "outputs": [],
   "source": [
    "# read results\n",
    "df_nodes = pd.read_csv(\"df_nodes.csv\")\n",
    "df_strain = pd.read_csv(\"df_strain.csv\")\n",
    "end_frame = len(df_strain)-1"
   ]
  },
  {
   "cell_type": "code",
   "execution_count": 110,
   "metadata": {},
   "outputs": [
    {
     "name": "stdout",
     "output_type": "stream",
     "text": [
      "tan_alpha in simulation: 0.8327 \n",
      "deformed height in simulation: 1.0000 \n"
     ]
    }
   ],
   "source": [
    "# check positions of corner nodes\n",
    "tan_alpha =  df_nodes.loc[end_frame, \"COORDx_15\"] -df_nodes.loc[end_frame, \"COORDx_11\"]\n",
    "height = df_nodes.loc[end_frame, \"COORDy_15\"] -df_nodes.loc[end_frame, \"COORDy_11\"]\n",
    "print(\"tan_alpha in simulation: {:.4f} \".format(tan_alpha))\n",
    "print(\"deformed height in simulation: {:.4f} \".format(height))"
   ]
  },
  {
   "cell_type": "code",
   "execution_count": 111,
   "metadata": {},
   "outputs": [
    {
     "data": {
      "text/plain": [
       "array([[-0.3698638 ,  0.16354624,  0.        ],\n",
       "       [ 0.16354624,  0.3698638 ,  0.        ],\n",
       "       [ 0.        ,  0.        ,  0.        ]])"
      ]
     },
     "execution_count": 111,
     "metadata": {},
     "output_type": "execute_result"
    }
   ],
   "source": [
    "# (true) strain tensor from finite element results\n",
    "eid = 1\n",
    "e_mat = reconstruct_strain_matrix(eid, end_frame)\n",
    "e_mat"
   ]
  },
  {
   "cell_type": "code",
   "execution_count": 112,
   "metadata": {},
   "outputs": [],
   "source": [
    "w,v = np.linalg.eigh(e_mat)"
   ]
  },
  {
   "cell_type": "code",
   "execution_count": 113,
   "metadata": {},
   "outputs": [
    {
     "data": {
      "text/plain": [
       "11.927019252267872"
      ]
     },
     "execution_count": 113,
     "metadata": {},
     "output_type": "execute_result"
    }
   ],
   "source": [
    "v1 = v[:,0]\n",
    "v2 = v[:,1]\n",
    "v3 = v[:,2]\n",
    "centroid = np.array([0., 0., 0.])\n",
    "vertical = np.array([centroid[0], centroid[1]+10, centroid[2]])\n",
    "theta_def = compute_angle_between_3d_points(vertical, centroid, v3)\n",
    "np.rad2deg(theta_def)"
   ]
  },
  {
   "cell_type": "code",
   "execution_count": 114,
   "metadata": {},
   "outputs": [],
   "source": [
    "angle = theta_def\n",
    "rot_mat = np.array([[np.cos(angle), -np.sin(angle), 0.],\n",
    "                    [np.sin(angle), np.cos(angle), 0.],\n",
    "                    [0., 0., 1.]])\n",
    "mult1 = np.matmul(rot_mat, e_mat)\n",
    "eps_princ = np.matmul(mult1, rot_mat.T)"
   ]
  },
  {
   "cell_type": "code",
   "execution_count": 115,
   "metadata": {},
   "outputs": [
    {
     "data": {
      "text/plain": [
       "array([[-4.04408953e-01, -7.48356412e-17,  0.00000000e+00],\n",
       "       [-7.10288720e-17,  4.04408953e-01,  0.00000000e+00],\n",
       "       [ 0.00000000e+00,  0.00000000e+00,  0.00000000e+00]])"
      ]
     },
     "execution_count": 115,
     "metadata": {},
     "output_type": "execute_result"
    }
   ],
   "source": [
    "# true strain tensor in principal direction\n",
    "eps_princ"
   ]
  },
  {
   "cell_type": "code",
   "execution_count": 116,
   "metadata": {},
   "outputs": [
    {
     "data": {
      "text/plain": [
       "array([[0.44538424, 1.        , 1.        ],\n",
       "       [1.        , 2.24525232, 1.        ],\n",
       "       [1.        , 1.        , 1.        ]])"
      ]
     },
     "execution_count": 116,
     "metadata": {},
     "output_type": "execute_result"
    }
   ],
   "source": [
    "# stretch tensor U in principal direction\n",
    "np.exp(eps_princ*2)"
   ]
  },
  {
   "cell_type": "markdown",
   "metadata": {},
   "source": [
    "## How to recover deformation gradient from finite element result???   \n",
    "Need to calcaulate tensor def_F from e_mat."
   ]
  }
 ],
 "metadata": {
  "kernelspec": {
   "display_name": "Python 3",
   "language": "python",
   "name": "python3"
  },
  "language_info": {
   "codemirror_mode": {
    "name": "ipython",
    "version": 3
   },
   "file_extension": ".py",
   "mimetype": "text/x-python",
   "name": "python",
   "nbconvert_exporter": "python",
   "pygments_lexer": "ipython3",
   "version": "3.9.4"
  }
 },
 "nbformat": 4,
 "nbformat_minor": 2
}
